{
 "cells": [
  {
   "cell_type": "code",
   "execution_count": null,
   "id": "57d07434-baef-4252-af52-0422fb6e57ec",
   "metadata": {},
   "outputs": [],
   "source": [
    "#Download and preprocess your dataset. For example, you can use the CIFAR-10 dataset:\n",
    "import torchvision\n",
    "import torchvision.transforms as transforms\n",
    "\n",
    "transform = transforms.Compose([\n",
    "    transforms.ToTensor(),\n",
    "    transforms.Normalize((0.5, 0.5, 0.5), (0.5, 0.5, 0.5))\n",
    "])\n",
    "\n",
    "trainset = torchvision.datasets.CIFAR10(root='./data', train=True, download=True, transform=transform)\n",
    "testset = torchvision.datasets.CIFAR10(root='./data', train=False, download=True, transform=transform)\n"
   ]
  },
  {
   "cell_type": "code",
   "execution_count": null,
   "id": "241c05d3-8da1-479f-9854-63754a100f10",
   "metadata": {},
   "outputs": [],
   "source": [
    "#Implement the Tiny-YOLO architecture using PyTorch:\n",
    "import torch.nn as nn\n",
    "import torch.nn.functional as F\n",
    "\n",
    "class TinyYOLO(nn.Module):\n",
    "    def __init__(self):\n",
    "        super(TinyYOLO, self).__init__()\n",
    "        self.conv1 = nn.Conv2d(3, 16, kernel_size=3, stride=1, padding=1)\n",
    "        self.pool1 = nn.MaxPool2d(2, 2)\n",
    "        self.conv2 = nn.Conv2d(16, 32, kernel_size=3, stride=1, padding=1)\n",
    "        self.pool2 = nn.MaxPool2d(2, 2)\n",
    "        self.conv3 = nn.Conv2d(32, 64, kernel_size=3, stride=1, padding=1)\n",
    "        self.pool3 = nn.MaxPool2d(2, 2)\n",
    "        self.fc1 = nn.Linear(64 * 4 * 4, 128)\n",
    "        self.fc2 = nn.Linear(128, 10)\n",
    "\n",
    "    def forward(self, x):\n",
    "        x = F.relu(self.conv1(x))\n",
    "        x = self.pool1(x)\n",
    "        x = F.relu(self.conv2(x))\n",
    "        x = self.pool2(x)\n",
    "        x = F.relu(self.conv3(x))\n",
    "        x = self.pool3(x)\n",
    "        x = x.view(x.size(0), -1)\n",
    "        x = F.relu(self.fc1(x))\n",
    "        x = self.fc2(x)\n",
    "        return x\n",
    "\n",
    "model = TinyYOLO()\n"
   ]
  },
  {
   "cell_type": "code",
   "execution_count": null,
   "id": "acb7117d-663b-4304-a711-3d1689796e0c",
   "metadata": {},
   "outputs": [],
   "source": [
    "#Compile the model with an optimizer, loss function, and metrics:\n",
    "criterion = nn.CrossEntropyLoss()\n",
    "optimizer = torch.optim.Adam(model.parameters(), lr=0.001)\n"
   ]
  },
  {
   "cell_type": "code",
   "execution_count": null,
   "id": "85952b3d-c4ac-471b-9837-2079e5689f43",
   "metadata": {},
   "outputs": [],
   "source": [
    "#Train the model on your dataset:\n",
    "for epoch in range(10):  # loop over the dataset multiple times\n",
    "    for i, data in enumerate(trainloader, 0):\n",
    "        inputs, labels = data\n",
    "        optimizer.zero_grad()\n",
    "        outputs = model(inputs)\n",
    "        loss = criterion(outputs, labels)\n",
    "        loss.backward()\n",
    "        optimizer.step()\n"
   ]
  },
  {
   "cell_type": "code",
   "execution_count": null,
   "id": "bcd39cf6-10a3-4daa-a799-5bd59cf284da",
   "metadata": {},
   "outputs": [],
   "source": [
    "#Evaluate the model's performance on the test set:\n",
    "correct = 0\n",
    "total = 0\n",
    "with torch.no_grad():\n",
    "    for data in testloader:\n",
    "        images, labels = data\n",
    "        outputs = model(images)\n",
    "        _, predicted = torch.max(outputs.data, 1)\n",
    "        total += labels.size(0)\n",
    "        correct += (predicted == labels).sum().item()\n",
    "\n",
    "print('Accuracy of the network on the 10000 test images: %d %%' % (100 * correct / total))\n"
   ]
  },
  {
   "cell_type": "code",
   "execution_count": null,
   "id": "1e8156c4-8a96-4f6c-bea8-a062b1809e9f",
   "metadata": {},
   "outputs": [],
   "source": [
    "#Save the model weights and architecture:\n",
    "torch.save(model.state_dict(), 'tiny_yolo_weights.pth')\n",
    "with open('tiny_yolo_architecture.json', 'w') as json_file:\n",
    "    json.dump(model_json, json_file, indent=4)\n"
   ]
  },
  {
   "cell_type": "code",
   "execution_count": null,
   "id": "2a7c087b-8669-45d5-859b-66a93e85aca3",
   "metadata": {},
   "outputs": [],
   "source": [
    "#Save the weights from your trained Tiny YOLO model.\n",
    "# Example for saving weights in PyTorch\n",
    "torch.save(model.state_dict(), 'tiny_yolo_weights.pth')\n"
   ]
  },
  {
   "cell_type": "code",
   "execution_count": null,
   "id": "ea6493e3-aac2-45b8-b1b0-24d0167abf0b",
   "metadata": {},
   "outputs": [],
   "source": [
    "#Modify the model architecture to match Tinier YOLO.\n",
    "class TinierYOLO(nn.Module):\n",
    "    def __init__(self):\n",
    "        super(TinierYOLO, self).__init__()\n",
    "        # Define a more streamlined architecture\n",
    "        self.features = nn.Sequential(\n",
    "            nn.Conv2d(3, 8, kernel_size=3, stride=1, padding=1),\n",
    "            nn.ReLU(),\n",
    "            nn.MaxPool2D(kernel_size=2, stride=2),\n",
    "            # Add more layers as needed\n",
    "        )\n",
    "        self.classifier = nn.Sequential(\n",
    "            nn.Linear(8 * 13 * 13, 64),\n",
    "            nn.ReLU(),\n",
    "            nn.Linear(64, 10),  # Number of classes\n",
    "        )\n",
    "\n",
    "    def forward(self, x):\n",
    "        x = self.features(x)\n",
    "        x = x.view(x.size(0), -1)\n",
    "        x = self.classifier(x)\n",
    "        return x\n"
   ]
  },
  {
   "cell_type": "code",
   "execution_count": null,
   "id": "c1fa18a0-55e6-4b58-b693-f6ff598cecc6",
   "metadata": {},
   "outputs": [],
   "source": [
    "#Load the weights from Tiny YOLO into the adjusted Tinier YOLO model.\n",
    "model = TinierYOLO()\n",
    "model.load_state_dict(torch.load('tiny_yolo_weights.pth'))\n"
   ]
  }
 ],
 "metadata": {
  "kernelspec": {
   "display_name": "Python 3 (ipykernel)",
   "language": "python",
   "name": "python3"
  },
  "language_info": {
   "codemirror_mode": {
    "name": "ipython",
    "version": 3
   },
   "file_extension": ".py",
   "mimetype": "text/x-python",
   "name": "python",
   "nbconvert_exporter": "python",
   "pygments_lexer": "ipython3",
   "version": "3.10.7"
  }
 },
 "nbformat": 4,
 "nbformat_minor": 5
}
