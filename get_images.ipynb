{
 "cells": [
  {
   "cell_type": "code",
   "execution_count": 27,
   "id": "ecc74ff3-82ce-4848-bbff-5970359a6168",
   "metadata": {},
   "outputs": [
    {
     "data": {
      "text/plain": [
       "True"
      ]
     },
     "execution_count": 27,
     "metadata": {},
     "output_type": "execute_result"
    }
   ],
   "source": [
    "import cv2\n",
    "import time\n",
    "\n",
    "# Define the desired resolution\n",
    "desired_width = 640\n",
    "desired_height = 480\n",
    "\n",
    "# Initialize webcam\n",
    "cap = cv2.VideoCapture(1)\n",
    "\n",
    "# Check if the webcam is opened correctly\n",
    "if not cap.isOpened():\n",
    "    print(\"Error: Could not open webcam.\")\n",
    "    exit()\n",
    "\n",
    "# Set the desired resolution\n",
    "cap.set(cv2.CAP_PROP_FRAME_WIDTH, desired_width)\n",
    "cap.set(cv2.CAP_PROP_FRAME_HEIGHT, desired_height)"
   ]
  },
  {
   "cell_type": "code",
   "execution_count": 60,
   "id": "7defe6e4-868c-4551-9c1e-60e1a294c9e7",
   "metadata": {},
   "outputs": [
    {
     "name": "stdout",
     "output_type": "stream",
     "text": [
      "Recording started...\n",
      "Recording stopped after 30 seconds.\n"
     ]
    }
   ],
   "source": [
    "# Define the codec and create VideoWriter object\n",
    "fourcc = cv2.VideoWriter_fourcc(*'XVID')\n",
    "output_path = 'train_video/Z_video.avi'  # Specify the file path\n",
    "out = cv2.VideoWriter(output_path, fourcc, 20.0, (desired_width, desired_height))\n",
    "\n",
    "recording = False\n",
    "start_time = None\n",
    "\n",
    "while True:\n",
    "    ret, frame = cap.read()\n",
    "    if not ret:\n",
    "        break\n",
    "\n",
    "    # Display the resulting frame\n",
    "    cv2.imshow('Webcam Video', frame)\n",
    "\n",
    "    # Check for key press\n",
    "    key = cv2.waitKey(1) & 0xFF\n",
    "    if key == ord('r'):  # Press 'r' to start recording\n",
    "        recording = True\n",
    "        start_time = time.time()\n",
    "        print(\"Recording started...\")\n",
    "\n",
    "    # Record video if 'r' was pressed\n",
    "    if recording:\n",
    "        out.write(frame)\n",
    "        # Stop recording after 30 seconds\n",
    "        if time.time() - start_time >= 30:\n",
    "            recording = False\n",
    "            print(\"Recording stopped after 30 seconds.\")\n",
    "\n",
    "    # Press 'q' to exit the loop\n",
    "    if key == ord('q'):\n",
    "        break\n",
    "\n",
    "out.release()\n",
    "cv2.destroyAllWindows()"
   ]
  },
  {
   "cell_type": "code",
   "execution_count": 61,
   "id": "76f987eb-f42e-497b-875c-dc9d09b89f1d",
   "metadata": {},
   "outputs": [],
   "source": [
    "# Release everything when the job is finished\n",
    "cap.release()\n",
    "out.release()\n",
    "cv2.destroyAllWindows()"
   ]
  },
  {
   "cell_type": "code",
   "execution_count": 90,
   "id": "07f7077c-4c60-419c-8d1d-496b2c52b6a7",
   "metadata": {},
   "outputs": [
    {
     "name": "stdout",
     "output_type": "stream",
     "text": [
      "901\n",
      "Saved 240 randomly selected frames as JPEG files.\n",
      "902\n",
      "Saved 240 randomly selected frames as JPEG files.\n",
      "902\n",
      "Saved 240 randomly selected frames as JPEG files.\n",
      "902\n",
      "Saved 240 randomly selected frames as JPEG files.\n",
      "902\n",
      "Saved 240 randomly selected frames as JPEG files.\n",
      "902\n",
      "Saved 240 randomly selected frames as JPEG files.\n",
      "901\n",
      "Saved 240 randomly selected frames as JPEG files.\n",
      "901\n",
      "Saved 240 randomly selected frames as JPEG files.\n",
      "901\n",
      "Saved 240 randomly selected frames as JPEG files.\n",
      "902\n",
      "Saved 240 randomly selected frames as JPEG files.\n",
      "901\n",
      "Saved 240 randomly selected frames as JPEG files.\n",
      "902\n",
      "Saved 240 randomly selected frames as JPEG files.\n",
      "901\n",
      "Saved 240 randomly selected frames as JPEG files.\n",
      "902\n",
      "Saved 240 randomly selected frames as JPEG files.\n",
      "902\n",
      "Saved 240 randomly selected frames as JPEG files.\n",
      "901\n",
      "Saved 240 randomly selected frames as JPEG files.\n",
      "902\n",
      "Saved 240 randomly selected frames as JPEG files.\n",
      "902\n",
      "Saved 240 randomly selected frames as JPEG files.\n",
      "901\n",
      "Saved 240 randomly selected frames as JPEG files.\n",
      "901\n",
      "Saved 240 randomly selected frames as JPEG files.\n",
      "901\n",
      "Saved 240 randomly selected frames as JPEG files.\n",
      "901\n",
      "Saved 240 randomly selected frames as JPEG files.\n",
      "902\n",
      "Saved 240 randomly selected frames as JPEG files.\n",
      "901\n",
      "Saved 240 randomly selected frames as JPEG files.\n",
      "901\n",
      "Saved 240 randomly selected frames as JPEG files.\n",
      "901\n",
      "Saved 240 randomly selected frames as JPEG files.\n"
     ]
    }
   ],
   "source": [
    "import cv2\n",
    "import random\n",
    "import os\n",
    "\n",
    "count = 0\n",
    "# Function to resize and save a frame\n",
    "def save_frame(frame, frame_index, label):\n",
    "    resized_frame = cv2.resize(frame, (266, 200))\n",
    "    global count\n",
    "    count = count + 1\n",
    "    if count <= 200:\n",
    "        output_path = os.path.join(output_train_dir, f'{label}_{frame_index}.jpg')\n",
    "    else:\n",
    "        output_path = os.path.join(output_test_dir, f'{label}_{frame_index}.jpg')\n",
    "    cv2.imwrite(output_path, resized_frame)\n",
    "\n",
    "labels = ['A','B','C','D','E','F','G','H','I','J','K','L','M','N','O','P','Q','R','S','T','U','V','W','X','Y','Z']\n",
    "\n",
    "for label in labels:\n",
    "    # Define the video file path\n",
    "    video_path = 'train_video/' + label + '_video.avi'\n",
    "    output_train_dir = 'train/' + label\n",
    "    output_test_dir = 'test/' + label\n",
    "\n",
    "    # Create the output directory if it doesn't exist\n",
    "    if not os.path.exists(output_train_dir):\n",
    "        os.makedirs(output_train_dir)\n",
    "    if not os.path.exists(output_test_dir):\n",
    "        os.makedirs(output_test_dir)\n",
    "\n",
    "    # Open the video file\n",
    "    cap = cv2.VideoCapture(video_path)\n",
    "\n",
    "    # Get the total number of frames in the video\n",
    "    total_frames = int(cap.get(cv2.CAP_PROP_FRAME_COUNT))\n",
    "    print(total_frames)\n",
    "\n",
    "    # Select 240 random frame indices\n",
    "    random_frames = random.sample(range(total_frames), 240)\n",
    "\n",
    "    # Read and save selected frames\n",
    "    for frame_index in random_frames:\n",
    "        cap.set(cv2.CAP_PROP_POS_FRAMES, frame_index)\n",
    "        ret, frame = cap.read()\n",
    "        if ret:\n",
    "            save_frame(frame, frame_index, label)\n",
    "\n",
    "    # Release the video capture object\n",
    "    cap.release()\n",
    "    count = 0\n",
    "\n",
    "    print(\"Saved 240 randomly selected frames as JPEG files.\")\n"
   ]
  },
  {
   "cell_type": "code",
   "execution_count": null,
   "id": "bec9f029-3cea-4236-a081-666d56f98d7c",
   "metadata": {},
   "outputs": [],
   "source": []
  }
 ],
 "metadata": {
  "kernelspec": {
   "display_name": "Python 3 (ipykernel)",
   "language": "python",
   "name": "python3"
  },
  "language_info": {
   "codemirror_mode": {
    "name": "ipython",
    "version": 3
   },
   "file_extension": ".py",
   "mimetype": "text/x-python",
   "name": "python",
   "nbconvert_exporter": "python",
   "pygments_lexer": "ipython3",
   "version": "3.10.7"
  }
 },
 "nbformat": 4,
 "nbformat_minor": 5
}
